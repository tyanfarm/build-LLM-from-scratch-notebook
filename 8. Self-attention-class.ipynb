{
 "cells": [
  {
   "cell_type": "code",
   "execution_count": null,
   "id": "f9eb758e",
   "metadata": {},
   "outputs": [],
   "source": [
    "import torch.nn as nn\n",
    "import torch \n",
    "\n",
    "class SelfAttention_v1(nn.Module):\n",
    "    def __init__(self, dim_in, dim_out):\n",
    "        super().__init__()      # Khởi tạo lớp cha nn.Module\n",
    "        self.dim_out = dim_out   # Kích thước đầu ra\n",
    "        # rand - phân phối đều liên tục trong khoảng [0, 1)\n",
    "        self.W_query = nn.Parameter(torch.rand(dim_in, dim_out))  # Ma trận trọng số cho query\n",
    "        self.W_key = nn.Parameter(torch.rand(dim_in, dim_out))    # Ma trận trọng số cho key\n",
    "        self.W_value = nn.Parameter(torch.rand(dim_in, dim_out))  # Ma trận trọng số cho value\n",
    "\n",
    "    def forward(self, x):\n",
    "        queries = x @ self.W_query # Tính queries\n",
    "        keys = x @ self.W_key      # Tính keys\n",
    "        values = x @ self.W_value  # Tính values\n",
    "\n",
    "        attn_scores = queries @ keys.T      # Tính attention scores (omega)\n",
    "        attn_weights = torch.softmax(\n",
    "            attn_scores / self.W_key.shape[-1]**0.5, dim=-1\n",
    "        )\n",
    "\n",
    "        context_vectors = attn_weights @ values  # Tính context vectors (z)\n",
    "\n",
    "        return context_vectors"
   ]
  },
  {
   "cell_type": "code",
   "execution_count": 4,
   "id": "b574d6eb",
   "metadata": {},
   "outputs": [],
   "source": [
    "inputs = torch.tensor(\n",
    "    [[0.43, 0.15, 0.89], # Your (x^1)\n",
    "    [0.55, 0.87, 0.66], # journey (x^2)\n",
    "    [0.57, 0.85, 0.64], # starts (x^3)\n",
    "    [0.22, 0.58, 0.33], # with (x^4)\n",
    "    [0.77, 0.25, 0.10], # one (x^5)\n",
    "    [0.05, 0.80, 0.55]] # step (x^6)\n",
    ")"
   ]
  },
  {
   "cell_type": "code",
   "execution_count": null,
   "id": "dbdc2c17",
   "metadata": {},
   "outputs": [
    {
     "name": "stdout",
     "output_type": "stream",
     "text": [
      "tensor([[0.2996, 0.8053],\n",
      "        [0.3061, 0.8210],\n",
      "        [0.3058, 0.8203],\n",
      "        [0.2948, 0.7939],\n",
      "        [0.2927, 0.7891],\n",
      "        [0.2990, 0.8040]], grad_fn=<MmBackward0>)\n"
     ]
    }
   ],
   "source": [
    "torch.manual_seed(123)\n",
    "self_attention_v1 = SelfAttention_v1(dim_in=3, dim_out=2)   \n",
    "print(self_attention_v1(inputs))    # run forward with inputs"
   ]
  }
 ],
 "metadata": {
  "kernelspec": {
   "display_name": "myenv",
   "language": "python",
   "name": "python3"
  },
  "language_info": {
   "codemirror_mode": {
    "name": "ipython",
    "version": 3
   },
   "file_extension": ".py",
   "mimetype": "text/x-python",
   "name": "python",
   "nbconvert_exporter": "python",
   "pygments_lexer": "ipython3",
   "version": "3.12.8"
  }
 },
 "nbformat": 4,
 "nbformat_minor": 5
}
