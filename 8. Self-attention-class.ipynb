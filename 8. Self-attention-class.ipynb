{
 "cells": [
  {
   "cell_type": "markdown",
   "id": "587cc09f",
   "metadata": {},
   "source": [
    "- `SelfAttention_v1`"
   ]
  },
  {
   "cell_type": "code",
   "execution_count": 1,
   "id": "f9eb758e",
   "metadata": {},
   "outputs": [],
   "source": [
    "import torch.nn as nn\n",
    "import torch \n",
    "\n",
    "class SelfAttention_v1(nn.Module):\n",
    "    def __init__(self, dim_in, dim_out):\n",
    "        super().__init__()      # Khởi tạo lớp cha nn.Module\n",
    "        self.dim_out = dim_out   # Kích thước đầu ra\n",
    "        # rand - phân phối đều liên tục trong khoảng [0, 1)\n",
    "        self.W_query = nn.Parameter(torch.rand(dim_in, dim_out))  # Ma trận trọng số cho query\n",
    "        self.W_key = nn.Parameter(torch.rand(dim_in, dim_out))    # Ma trận trọng số cho key\n",
    "        self.W_value = nn.Parameter(torch.rand(dim_in, dim_out))  # Ma trận trọng số cho value\n",
    "\n",
    "    def forward(self, x):\n",
    "        queries = x @ self.W_query # Tính queries\n",
    "        keys = x @ self.W_key      # Tính keys\n",
    "        values = x @ self.W_value  # Tính values\n",
    "\n",
    "        attn_scores = queries @ keys.T      # Tính attention scores (omega)\n",
    "        attn_weights = torch.softmax(\n",
    "            attn_scores / keys.shape[-1]**0.5, dim=-1\n",
    "        )\n",
    "\n",
    "        context_vectors = attn_weights @ values  # Tính context vectors (z)\n",
    "\n",
    "        return context_vectors"
   ]
  },
  {
   "cell_type": "code",
   "execution_count": 2,
   "id": "b574d6eb",
   "metadata": {},
   "outputs": [],
   "source": [
    "inputs = torch.tensor(\n",
    "    [[0.43, 0.15, 0.89], # Your (x^1)\n",
    "    [0.55, 0.87, 0.66], # journey (x^2)\n",
    "    [0.57, 0.85, 0.64], # starts (x^3)\n",
    "    [0.22, 0.58, 0.33], # with (x^4)\n",
    "    [0.77, 0.25, 0.10], # one (x^5)\n",
    "    [0.05, 0.80, 0.55]] # step (x^6)\n",
    ")"
   ]
  },
  {
   "cell_type": "code",
   "execution_count": 3,
   "id": "dbdc2c17",
   "metadata": {},
   "outputs": [
    {
     "name": "stdout",
     "output_type": "stream",
     "text": [
      "tensor([[0.2996, 0.8053],\n",
      "        [0.3061, 0.8210],\n",
      "        [0.3058, 0.8203],\n",
      "        [0.2948, 0.7939],\n",
      "        [0.2927, 0.7891],\n",
      "        [0.2990, 0.8040]], grad_fn=<MmBackward0>)\n"
     ]
    }
   ],
   "source": [
    "torch.manual_seed(123)\n",
    "self_attention_v1 = SelfAttention_v1(dim_in=3, dim_out=2)   \n",
    "print(self_attention_v1(inputs))    # run forward with inputs"
   ]
  },
  {
   "cell_type": "markdown",
   "id": "0ef04b8d",
   "metadata": {},
   "source": [
    "- `SelfAttention_v2`: use _nn.Linear_ "
   ]
  },
  {
   "cell_type": "code",
   "execution_count": null,
   "id": "1e22bea8",
   "metadata": {},
   "outputs": [],
   "source": [
    "class SelfAttention_v2(nn.Module):\n",
    "    def __init__(self, dim_in, dim_out, qkv_bias=False):\n",
    "        super().__init__()     # Khởi tạo lớp cha nn.Module\n",
    "        self.dim_out = dim_out  # Kích thước đầu ra\n",
    "        self.W_query = nn.Linear(dim_in, dim_out, bias=qkv_bias)  # Lớp Linear cho query\n",
    "        self.W_key = nn.Linear(dim_in, dim_out, bias=qkv_bias)    # Lớp Linear cho key\n",
    "        self.W_value = nn.Linear(dim_in, dim_out, bias=qkv_bias)  # Lớp Linear cho value\n",
    "\n",
    "    def forward(self, x):\n",
    "        queries = self.W_query(x)   # X . Wq \n",
    "        keys = self.W_key(x)         # X . Wk\n",
    "        values = self.W_value(x)     # X . Wv\n",
    "\n",
    "        attn_scores = queries @ keys.T      # Tính attention scores (omega)\n",
    "        attn_weights = torch.softmax(\n",
    "            attn_scores / keys.shape[-1]**0.5, dim=-1\n",
    "        )\n",
    "\n",
    "        context_vectors = attn_weights @ values  # Tính context vectors (z)\n",
    "\n",
    "        return context_vectors"
   ]
  },
  {
   "cell_type": "code",
   "execution_count": 6,
   "id": "03348445",
   "metadata": {},
   "outputs": [
    {
     "name": "stdout",
     "output_type": "stream",
     "text": [
      "tensor([[-0.5337, -0.1051],\n",
      "        [-0.5323, -0.1080],\n",
      "        [-0.5323, -0.1079],\n",
      "        [-0.5297, -0.1076],\n",
      "        [-0.5311, -0.1066],\n",
      "        [-0.5299, -0.1081]], grad_fn=<MmBackward0>)\n"
     ]
    }
   ],
   "source": [
    "torch.manual_seed(123)\n",
    "self_attention_v2 = SelfAttention_v2(dim_in=3, dim_out=2, qkv_bias=False)\n",
    "print(self_attention_v2(inputs))    # run forward with inputs"
   ]
  },
  {
   "cell_type": "markdown",
   "id": "2257dfdb",
   "metadata": {},
   "source": [
    "- 2 phiên bản `SelfAttention` cho ra 2 output khác nhau, vì weights khởi tạo của chúng khác nhau."
   ]
  },
  {
   "cell_type": "markdown",
   "id": "e7770a57",
   "metadata": {},
   "source": [
    "### So sánh `SelfAttention_v1` và `SelfAttention_v2`"
   ]
  },
  {
   "cell_type": "markdown",
   "id": "3b1e274b",
   "metadata": {},
   "source": [
    "- Ở đây chúng ta sẽ chuyển `weights` khởi tạo từ v2 qua v1 để thể hiện sự so sánh."
   ]
  },
  {
   "cell_type": "code",
   "execution_count": 8,
   "id": "9031ad86",
   "metadata": {},
   "outputs": [
    {
     "data": {
      "text/plain": [
       "torch.Size([2, 3])"
      ]
     },
     "execution_count": 8,
     "metadata": {},
     "output_type": "execute_result"
    }
   ],
   "source": [
    "layer = nn.Linear(3, 2, bias=False)\n",
    "layer.weight.shape"
   ]
  },
  {
   "cell_type": "markdown",
   "id": "0060de63",
   "metadata": {},
   "source": [
    "- Vì `nn.Linear` lưu ma trận weights ở dạng _chuyển vị (transposed)_ `weight.T`.\n",
    "\n",
    "- Nếu `linear.weight` có kích thước `[out_dim, in_dim]` thì `SelfAttention.W_query` có kích thước `[in_dim, out_dim]`.\n",
    "\n",
    "- Vì vậy khi gán cần chuyển vị ma trận."
   ]
  },
  {
   "cell_type": "code",
   "execution_count": 9,
   "id": "b3e793f9",
   "metadata": {},
   "outputs": [
    {
     "name": "stdout",
     "output_type": "stream",
     "text": [
      "Output v1:\n",
      " tensor([[ 0.0309, -0.2902],\n",
      "        [ 0.0308, -0.2899],\n",
      "        [ 0.0308, -0.2898],\n",
      "        [ 0.0300, -0.2897],\n",
      "        [ 0.0292, -0.2891],\n",
      "        [ 0.0306, -0.2900]], grad_fn=<MmBackward0>)\n",
      "Output v2:\n",
      " tensor([[ 0.0309, -0.2902],\n",
      "        [ 0.0308, -0.2899],\n",
      "        [ 0.0308, -0.2898],\n",
      "        [ 0.0300, -0.2897],\n",
      "        [ 0.0292, -0.2891],\n",
      "        [ 0.0306, -0.2900]], grad_fn=<MmBackward0>)\n"
     ]
    }
   ],
   "source": [
    "self_attention_v1 = SelfAttention_v1(dim_in=3, dim_out=2)\n",
    "self_attention_v2 = SelfAttention_v2(dim_in=3, dim_out=2, qkv_bias=False)\n",
    "\n",
    "self_attention_v1.W_query.data = self_attention_v2.W_query.weight.T.data.clone()\n",
    "self_attention_v1.W_key.data = self_attention_v2.W_key.weight.T.data.clone()\n",
    "self_attention_v1.W_value.data = self_attention_v2.W_value.weight.T.data.clone()    \n",
    "\n",
    "output_v1 = self_attention_v1(inputs)\n",
    "output_v2 = self_attention_v2(inputs)\n",
    "print(\"Output v1:\\n\", output_v1)\n",
    "print(\"Output v2:\\n\", output_v2)"
   ]
  },
  {
   "cell_type": "markdown",
   "id": "edd33089",
   "metadata": {},
   "source": [
    "- Từ đó thấy được cả 2 version đều giống nhau về mặt chức năng."
   ]
  }
 ],
 "metadata": {
  "kernelspec": {
   "display_name": "myenv",
   "language": "python",
   "name": "python3"
  },
  "language_info": {
   "codemirror_mode": {
    "name": "ipython",
    "version": 3
   },
   "file_extension": ".py",
   "mimetype": "text/x-python",
   "name": "python",
   "nbconvert_exporter": "python",
   "pygments_lexer": "ipython3",
   "version": "3.12.8"
  }
 },
 "nbformat": 4,
 "nbformat_minor": 5
}
