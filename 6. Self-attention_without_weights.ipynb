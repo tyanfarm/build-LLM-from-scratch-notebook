{
 "cells": [
  {
   "cell_type": "code",
   "execution_count": 1,
   "id": "0be52c6d",
   "metadata": {},
   "outputs": [],
   "source": [
    "import torch\n",
    "\n",
    "inputs = torch.tensor(\n",
    "    [[0.43, 0.15, 0.89], # Your (x^1)\n",
    "    [0.55, 0.87, 0.66], # journey (x^2)\n",
    "    [0.57, 0.85, 0.64], # starts (x^3)\n",
    "    [0.22, 0.58, 0.33], # with (x^4)\n",
    "    [0.77, 0.25, 0.10], # one (x^5)\n",
    "    [0.05, 0.80, 0.55]] # step (x^6)\n",
    ")"
   ]
  },
  {
   "cell_type": "markdown",
   "id": "90745b7b",
   "metadata": {},
   "source": [
    "- Bước đầu tiên để tính self-attention là tính ra các giá trị trung gian $ω$.\n",
    "- $ω$ còn được gọi là attention scores (điểm chú ý)."
   ]
  },
  {
   "cell_type": "code",
   "execution_count": 2,
   "id": "d11cd288",
   "metadata": {},
   "outputs": [
    {
     "name": "stdout",
     "output_type": "stream",
     "text": [
      "tensor([0.9544, 1.4950, 1.4754, 0.8434, 0.7070, 1.0865])\n"
     ]
    }
   ],
   "source": [
    "query = inputs[1]   # x^2 (journey)\n",
    "attn_scores_2 = torch.empty(inputs.shape[0])\n",
    "\n",
    "for i, x_i in enumerate(inputs):\n",
    "    attn_scores_2[i] = torch.dot(query, x_i)\n",
    "\n",
    "print(attn_scores_2)\n"
   ]
  },
  {
   "cell_type": "code",
   "execution_count": 3,
   "id": "da9c33d6",
   "metadata": {},
   "outputs": [
    {
     "data": {
      "text/plain": [
       "6"
      ]
     },
     "execution_count": 3,
     "metadata": {},
     "output_type": "execute_result"
    }
   ],
   "source": [
    "inputs.shape[0]"
   ]
  },
  {
   "cell_type": "code",
   "execution_count": 7,
   "id": "0df46e94",
   "metadata": {},
   "outputs": [
    {
     "data": {
      "text/plain": [
       "tensor(6.5617)"
      ]
     },
     "execution_count": 7,
     "metadata": {},
     "output_type": "execute_result"
    }
   ],
   "source": [
    "attn_scores_2.sum()"
   ]
  },
  {
   "cell_type": "markdown",
   "id": "eb817509",
   "metadata": {},
   "source": [
    "- `divide by sum`"
   ]
  },
  {
   "cell_type": "code",
   "execution_count": 8,
   "id": "920d252c",
   "metadata": {},
   "outputs": [
    {
     "name": "stdout",
     "output_type": "stream",
     "text": [
      "Attention weights: tensor([0.1455, 0.2278, 0.2249, 0.1285, 0.1077, 0.1656])\n",
      "Sum: tensor(1.0000)\n"
     ]
    }
   ],
   "source": [
    "attn_weights_2_tmp = attn_scores_2 / attn_scores_2.sum()\n",
    "print(\"Attention weights:\", attn_weights_2_tmp)\n",
    "print(\"Sum:\", attn_weights_2_tmp.sum())"
   ]
  },
  {
   "cell_type": "markdown",
   "id": "6017891c",
   "metadata": {},
   "source": [
    "- `softmax naive`"
   ]
  },
  {
   "cell_type": "code",
   "execution_count": 11,
   "id": "3a69f322",
   "metadata": {},
   "outputs": [
    {
     "name": "stdout",
     "output_type": "stream",
     "text": [
      "Attention weights: tensor([0.1385, 0.2379, 0.2333, 0.1240, 0.1082, 0.1581])\n",
      "Sum: tensor(1.)\n"
     ]
    }
   ],
   "source": [
    "def softmax_naive(x):\n",
    "    return torch.exp(x) / torch.exp(x).sum(dim=0)\n",
    "\n",
    "attn_weights_2_naive = softmax_naive(attn_scores_2)\n",
    "print(\"Attention weights:\", attn_weights_2_naive)\n",
    "print(\"Sum:\", attn_weights_2_naive.sum())"
   ]
  },
  {
   "cell_type": "markdown",
   "id": "8a7cf7a4",
   "metadata": {},
   "source": [
    "- Hàm `softmax` giúp đầu ra luôn là `số dương` và tổng bằng 1, vì xác suất không thể âm hoặc vượt quá 1.\n",
    "\n",
    "- Tuy nhiên hàm `softmax_naive` đơn giản ở trên có thể `bị tràn số` (overflow) hoặc `mất chính xác` (underflow) khi đầu vào `quá lớn` hoặc `quá nhỏ`.\n",
    "    + Hàm mũ $e^x$ tăng rất nhanh, $x = 700$ thì $e^x \\approx 10^{304}$\n",
    "    + Tương tự với khi $x$ âm lớn thì $e^x$ về 0 rất nhanh, $x = -700$ thì $e^x \\approx 1^{-306}$\n",
    "\n",
    "- Vì vậy, ta sẽ dùng `torch.softmax` được tối ưu cho các vấn đề tính toán này."
   ]
  },
  {
   "cell_type": "code",
   "execution_count": 12,
   "id": "48cd3758",
   "metadata": {},
   "outputs": [
    {
     "name": "stdout",
     "output_type": "stream",
     "text": [
      "Attention weights: tensor([0.1385, 0.2379, 0.2333, 0.1240, 0.1082, 0.1581])\n",
      "Sum: tensor(1.)\n"
     ]
    }
   ],
   "source": [
    "attn_weights_2 = torch.softmax(attn_scores_2, dim=0)\n",
    "print(\"Attention weights:\", attn_weights_2)\n",
    "print(\"Sum:\", attn_weights_2.sum())"
   ]
  },
  {
   "cell_type": "markdown",
   "id": "72981ecd",
   "metadata": {},
   "source": [
    "- `context vector`"
   ]
  },
  {
   "cell_type": "code",
   "execution_count": 13,
   "id": "f9fbff4b",
   "metadata": {},
   "outputs": [
    {
     "name": "stdout",
     "output_type": "stream",
     "text": [
      "Context vector: tensor([0.4419, 0.6515, 0.5683])\n"
     ]
    }
   ],
   "source": [
    "query = inputs[1]   # x^2 (journey)\n",
    "context_vector_2 = torch.zeros(query.shape)\n",
    "for i, x_i in enumerate(inputs):\n",
    "    context_vector_2 += attn_weights_2[i] * x_i\n",
    "print(\"Context vector:\", context_vector_2)"
   ]
  }
 ],
 "metadata": {
  "kernelspec": {
   "display_name": "myenv",
   "language": "python",
   "name": "python3"
  },
  "language_info": {
   "codemirror_mode": {
    "name": "ipython",
    "version": 3
   },
   "file_extension": ".py",
   "mimetype": "text/x-python",
   "name": "python",
   "nbconvert_exporter": "python",
   "pygments_lexer": "ipython3",
   "version": "3.12.8"
  }
 },
 "nbformat": 4,
 "nbformat_minor": 5
}
