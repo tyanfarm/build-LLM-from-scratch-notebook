{
 "cells": [
  {
   "cell_type": "code",
   "execution_count": 26,
   "id": "0be52c6d",
   "metadata": {},
   "outputs": [],
   "source": [
    "import torch\n",
    "\n",
    "inputs = torch.tensor(\n",
    "    [[0.43, 0.15, 0.89], # Your (x^1)\n",
    "    [0.55, 0.87, 0.66], # journey (x^2)\n",
    "    [0.57, 0.85, 0.64], # starts (x^3)\n",
    "    [0.22, 0.58, 0.33], # with (x^4)\n",
    "    [0.77, 0.25, 0.10], # one (x^5)\n",
    "    [0.05, 0.80, 0.55]] # step (x^6)\n",
    ")"
   ]
  },
  {
   "cell_type": "markdown",
   "id": "90745b7b",
   "metadata": {},
   "source": [
    "- Bước đầu tiên để tính self-attention là tính ra các giá trị trung gian $ω$.\n",
    "- $ω$ còn được gọi là attention scores (điểm chú ý)."
   ]
  },
  {
   "cell_type": "code",
   "execution_count": 32,
   "id": "d11cd288",
   "metadata": {},
   "outputs": [
    {
     "name": "stdout",
     "output_type": "stream",
     "text": [
      "Attention scores:\n",
      " tensor([0.9544, 1.4950, 1.4754, 0.8434, 0.7070, 1.0865])\n"
     ]
    }
   ],
   "source": [
    "query = inputs[1]   # x^2 (journey)\n",
    "attn_scores_2 = torch.empty(inputs.shape[0])\n",
    "\n",
    "for i, x_i in enumerate(inputs):\n",
    "    attn_scores_2[i] = torch.dot(query, x_i)\n",
    "\n",
    "print(\"Attention scores:\\n\", attn_scores_2)\n"
   ]
  },
  {
   "cell_type": "code",
   "execution_count": 3,
   "id": "da9c33d6",
   "metadata": {},
   "outputs": [
    {
     "data": {
      "text/plain": [
       "6"
      ]
     },
     "execution_count": 3,
     "metadata": {},
     "output_type": "execute_result"
    }
   ],
   "source": [
    "inputs.shape[0]"
   ]
  },
  {
   "cell_type": "code",
   "execution_count": 7,
   "id": "0df46e94",
   "metadata": {},
   "outputs": [
    {
     "data": {
      "text/plain": [
       "tensor(6.5617)"
      ]
     },
     "execution_count": 7,
     "metadata": {},
     "output_type": "execute_result"
    }
   ],
   "source": [
    "attn_scores_2.sum()"
   ]
  },
  {
   "cell_type": "markdown",
   "id": "eb817509",
   "metadata": {},
   "source": [
    "- `divide by sum`"
   ]
  },
  {
   "cell_type": "code",
   "execution_count": 8,
   "id": "920d252c",
   "metadata": {},
   "outputs": [
    {
     "name": "stdout",
     "output_type": "stream",
     "text": [
      "Attention weights: tensor([0.1455, 0.2278, 0.2249, 0.1285, 0.1077, 0.1656])\n",
      "Sum: tensor(1.0000)\n"
     ]
    }
   ],
   "source": [
    "attn_weights_2_tmp = attn_scores_2 / attn_scores_2.sum()\n",
    "print(\"Attention weights:\", attn_weights_2_tmp)\n",
    "print(\"Sum:\", attn_weights_2_tmp.sum())"
   ]
  },
  {
   "cell_type": "markdown",
   "id": "6017891c",
   "metadata": {},
   "source": [
    "- `softmax naive`"
   ]
  },
  {
   "cell_type": "code",
   "execution_count": 11,
   "id": "3a69f322",
   "metadata": {},
   "outputs": [
    {
     "name": "stdout",
     "output_type": "stream",
     "text": [
      "Attention weights: tensor([0.1385, 0.2379, 0.2333, 0.1240, 0.1082, 0.1581])\n",
      "Sum: tensor(1.)\n"
     ]
    }
   ],
   "source": [
    "def softmax_naive(x):\n",
    "    return torch.exp(x) / torch.exp(x).sum(dim=0)\n",
    "\n",
    "attn_weights_2_naive = softmax_naive(attn_scores_2)\n",
    "print(\"Attention weights:\", attn_weights_2_naive)\n",
    "print(\"Sum:\", attn_weights_2_naive.sum())"
   ]
  },
  {
   "cell_type": "markdown",
   "id": "8a7cf7a4",
   "metadata": {},
   "source": [
    "- Hàm `softmax` giúp đầu ra luôn là `số dương` và tổng bằng 1, vì xác suất không thể âm hoặc vượt quá 1.\n",
    "\n",
    "- Tuy nhiên hàm `softmax_naive` đơn giản ở trên có thể `bị tràn số` (overflow) hoặc `mất chính xác` (underflow) khi đầu vào `quá lớn` hoặc `quá nhỏ`.\n",
    "    + Hàm mũ $e^x$ tăng rất nhanh, $x = 700$ thì $e^x \\approx 10^{304}$\n",
    "    + Tương tự với khi $x$ âm lớn thì $e^x$ về 0 rất nhanh, $x = -700$ thì $e^x \\approx 1^{-306}$\n",
    "\n",
    "- Vì vậy, ta sẽ dùng `torch.softmax` được tối ưu cho các vấn đề tính toán này."
   ]
  },
  {
   "cell_type": "code",
   "execution_count": 31,
   "id": "48cd3758",
   "metadata": {},
   "outputs": [
    {
     "name": "stdout",
     "output_type": "stream",
     "text": [
      "Attention weights: tensor([0.1385, 0.2379, 0.2333, 0.1240, 0.1082, 0.1581])\n",
      "Sum: tensor(1.)\n"
     ]
    }
   ],
   "source": [
    "attn_weights_2 = torch.softmax(attn_scores_2, dim=0)\n",
    "print(\"Attention weights:\", attn_weights_2)\n",
    "print(\"Sum:\", attn_weights_2.sum())"
   ]
  },
  {
   "cell_type": "markdown",
   "id": "72981ecd",
   "metadata": {},
   "source": [
    "- `context vector`"
   ]
  },
  {
   "cell_type": "code",
   "execution_count": 13,
   "id": "f9fbff4b",
   "metadata": {},
   "outputs": [
    {
     "name": "stdout",
     "output_type": "stream",
     "text": [
      "Context vector: tensor([0.4419, 0.6515, 0.5683])\n"
     ]
    }
   ],
   "source": [
    "query = inputs[1]   # x^2 (journey)\n",
    "context_vector_2 = torch.zeros(query.shape)\n",
    "for i, x_i in enumerate(inputs):\n",
    "    context_vector_2 += attn_weights_2[i] * x_i\n",
    "print(\"Context vector:\", context_vector_2)"
   ]
  },
  {
   "cell_type": "markdown",
   "id": "02474ef4",
   "metadata": {},
   "source": [
    "### Compute attention weights for all tokens"
   ]
  },
  {
   "cell_type": "code",
   "execution_count": 19,
   "id": "3343344b",
   "metadata": {},
   "outputs": [
    {
     "name": "stdout",
     "output_type": "stream",
     "text": [
      "Attention scores:\n",
      " tensor([[0.9995, 0.9544, 0.9422, 0.4753, 0.4576, 0.6310],\n",
      "        [0.9544, 1.4950, 1.4754, 0.8434, 0.7070, 1.0865],\n",
      "        [0.9422, 1.4754, 1.4570, 0.8296, 0.7154, 1.0605],\n",
      "        [0.4753, 0.8434, 0.8296, 0.4937, 0.3474, 0.6565],\n",
      "        [0.4576, 0.7070, 0.7154, 0.3474, 0.6654, 0.2935],\n",
      "        [0.6310, 1.0865, 1.0605, 0.6565, 0.2935, 0.9450]])\n"
     ]
    }
   ],
   "source": [
    "attn_scores = torch.empty(6, 6)\n",
    "for i, x_i in enumerate(inputs):\n",
    "    for j, x_j in enumerate(inputs):\n",
    "        attn_scores[i, j] = torch.dot(x_i, x_j)\n",
    "print(\"Attention scores:\\n\", attn_scores)"
   ]
  },
  {
   "cell_type": "code",
   "execution_count": 42,
   "id": "4b799ca5",
   "metadata": {},
   "outputs": [
    {
     "name": "stdout",
     "output_type": "stream",
     "text": [
      "Attention scores:\n",
      " tensor([[0.9995, 0.9544, 0.9422, 0.4753, 0.4576, 0.6310],\n",
      "        [0.9544, 1.4950, 1.4754, 0.8434, 0.7070, 1.0865],\n",
      "        [0.9422, 1.4754, 1.4570, 0.8296, 0.7154, 1.0605],\n",
      "        [0.4753, 0.8434, 0.8296, 0.4937, 0.3474, 0.6565],\n",
      "        [0.4576, 0.7070, 0.7154, 0.3474, 0.6654, 0.2935],\n",
      "        [0.6310, 1.0865, 1.0605, 0.6565, 0.2935, 0.9450]])\n"
     ]
    }
   ],
   "source": [
    "attn_scores = inputs @ inputs.T\n",
    "print(\"Attention scores:\\n\", attn_scores)"
   ]
  },
  {
   "cell_type": "markdown",
   "id": "864e2317",
   "metadata": {},
   "source": [
    "- Sử dụng _matrix multiplication_ và _for_ đều cho kết quả như nhau nhưng _loop_ chậm hơn."
   ]
  },
  {
   "cell_type": "code",
   "execution_count": 40,
   "id": "a167b018",
   "metadata": {},
   "outputs": [
    {
     "name": "stdout",
     "output_type": "stream",
     "text": [
      "Attention weights:\n",
      " tensor([[0.2098, 0.2006, 0.1981, 0.1242, 0.1220, 0.1452],\n",
      "        [0.1385, 0.2379, 0.2333, 0.1240, 0.1082, 0.1581],\n",
      "        [0.1390, 0.2369, 0.2326, 0.1242, 0.1108, 0.1565],\n",
      "        [0.1435, 0.2074, 0.2046, 0.1462, 0.1263, 0.1720],\n",
      "        [0.1526, 0.1958, 0.1975, 0.1367, 0.1879, 0.1295],\n",
      "        [0.1385, 0.2184, 0.2128, 0.1420, 0.0988, 0.1896]])\n"
     ]
    }
   ],
   "source": [
    "attn_weights = torch.softmax(attn_scores, dim=1)    # dim=1 để softmax theo hàng\n",
    "print(\"Attention weights:\\n\", attn_weights)"
   ]
  },
  {
   "cell_type": "code",
   "execution_count": 35,
   "id": "d728aabc",
   "metadata": {},
   "outputs": [
    {
     "data": {
      "text/plain": [
       "tensor([[0.4300, 0.1500, 0.8900],\n",
       "        [0.5500, 0.8700, 0.6600],\n",
       "        [0.5700, 0.8500, 0.6400],\n",
       "        [0.2200, 0.5800, 0.3300],\n",
       "        [0.7700, 0.2500, 0.1000],\n",
       "        [0.0500, 0.8000, 0.5500]])"
      ]
     },
     "execution_count": 35,
     "metadata": {},
     "output_type": "execute_result"
    }
   ],
   "source": [
    "inputs"
   ]
  },
  {
   "cell_type": "markdown",
   "id": "b2c9a083",
   "metadata": {},
   "source": [
    "- Như ở trên ta đã tính _context vector_ cho token 2, ở đây ta sẽ _nhân ma trận_ để tính _context vector_ cho mọi input tokens."
   ]
  },
  {
   "cell_type": "code",
   "execution_count": 43,
   "id": "5ffa4a67",
   "metadata": {},
   "outputs": [
    {
     "name": "stdout",
     "output_type": "stream",
     "text": [
      "All context vectors:\n",
      " tensor([[0.4421, 0.5931, 0.5790],\n",
      "        [0.4419, 0.6515, 0.5683],\n",
      "        [0.4431, 0.6496, 0.5671],\n",
      "        [0.4304, 0.6298, 0.5510],\n",
      "        [0.4671, 0.5910, 0.5266],\n",
      "        [0.4177, 0.6503, 0.5645]])\n"
     ]
    }
   ],
   "source": [
    "all_context_vectors = attn_weights @ inputs\n",
    "print(\"All context vectors:\\n\", all_context_vectors)"
   ]
  },
  {
   "cell_type": "markdown",
   "id": "2b7eee62",
   "metadata": {},
   "source": [
    "- Ban đầu khi tạo `context vector` cho `token 2`, ta nhân từng `attention weights` với `input vector` tương ứng sau đó cộng hết 6 vector lại. \n",
    "\n",
    "- Thì ở bước nhân ma trận này, nhìn vào hàng 1 của `attention weights` ([0.2098, 0.2006, 0.1981, 0.1242, 0.1220, 0.1452]) khi nhân với `ma trận inputs` thì từng phần tử của `attention weight 1` này sẽ nhân với từng `vector input` tương ứng, sau đó cũng cộng 6 vector lại để thành 1 vector mới có chiều `1x3` (và cũng là `context vector 1`). \n",
    "\n",
    "- Tương tự với 5 vector còn lại."
   ]
  }
 ],
 "metadata": {
  "kernelspec": {
   "display_name": "myenv",
   "language": "python",
   "name": "python3"
  },
  "language_info": {
   "codemirror_mode": {
    "name": "ipython",
    "version": 3
   },
   "file_extension": ".py",
   "mimetype": "text/x-python",
   "name": "python",
   "nbconvert_exporter": "python",
   "pygments_lexer": "ipython3",
   "version": "3.12.8"
  }
 },
 "nbformat": 4,
 "nbformat_minor": 5
}
