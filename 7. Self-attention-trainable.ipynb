{
 "cells": [
  {
   "cell_type": "code",
   "execution_count": 2,
   "id": "0be52c6d",
   "metadata": {},
   "outputs": [],
   "source": [
    "import torch\n",
    "\n",
    "inputs = torch.tensor(\n",
    "    [[0.43, 0.15, 0.89], # Your (x^1)\n",
    "    [0.55, 0.87, 0.66], # journey (x^2)\n",
    "    [0.57, 0.85, 0.64], # starts (x^3)\n",
    "    [0.22, 0.58, 0.33], # with (x^4)\n",
    "    [0.77, 0.25, 0.10], # one (x^5)\n",
    "    [0.05, 0.80, 0.55]] # step (x^6)\n",
    ")"
   ]
  },
  {
   "cell_type": "markdown",
   "id": "2981bd57",
   "metadata": {},
   "source": [
    "- Sử dụng $x^{(2)}$ để minh họa."
   ]
  },
  {
   "cell_type": "code",
   "execution_count": 3,
   "id": "85370d20",
   "metadata": {},
   "outputs": [],
   "source": [
    "x_2 = inputs[1]  # (x^2)\n",
    "\n",
    "# Khởi tạo dimensions của 3 ma trận trọng số\n",
    "dim_in = inputs.shape[1]\n",
    "dim_out = 2"
   ]
  },
  {
   "cell_type": "markdown",
   "id": "cad69291",
   "metadata": {},
   "source": [
    "- Khởi tạo 3 ma trận $W_q$, $W_k$, $W_v$, sử dụng _phân phối chuẩn_ $\\mathcal{N}(0, 1)$ (68 - 95 - 99.7)\n",
    "\n",
    "- Vì đang minh họa nên ta set `requires_grad=False`; nhưng khi trong quá trình train LLM thì sẽ set `requires_grad=True` để cập nhật weights trong quá trình huấn luyện."
   ]
  },
  {
   "cell_type": "code",
   "execution_count": 4,
   "id": "7740bc94",
   "metadata": {},
   "outputs": [
    {
     "name": "stdout",
     "output_type": "stream",
     "text": [
      "W_query: Parameter containing:\n",
      "tensor([[-0.1115,  0.1204],\n",
      "        [-0.3696, -0.2404],\n",
      "        [-1.1969,  0.2093]])\n",
      "W_key: Parameter containing:\n",
      "tensor([[-0.9724, -0.7550],\n",
      "        [ 0.3239, -0.1085],\n",
      "        [ 0.2103, -0.3908]])\n",
      "W_value: Parameter containing:\n",
      "tensor([[ 0.2350,  0.6653],\n",
      "        [ 0.3528,  0.9728],\n",
      "        [-0.0386, -0.8861]])\n"
     ]
    }
   ],
   "source": [
    "torch.manual_seed(123)\n",
    "W_query = torch.nn.Parameter(torch.randn(dim_in, dim_out), requires_grad=False)\n",
    "W_key = torch.nn.Parameter(torch.randn(dim_in, dim_out), requires_grad=False)\n",
    "W_value = torch.nn.Parameter(torch.randn(dim_in, dim_out), requires_grad=False)\n",
    "\n",
    "print(\"W_query:\", W_query)\n",
    "print(\"W_key:\", W_key)\n",
    "print(\"W_value:\", W_value)"
   ]
  },
  {
   "cell_type": "code",
   "execution_count": 5,
   "id": "037c6bc2",
   "metadata": {},
   "outputs": [
    {
     "name": "stdout",
     "output_type": "stream",
     "text": [
      "query_2: tensor([-1.1729, -0.0048])\n",
      "key_2: tensor([-0.1142, -0.7676])\n",
      "value_2: tensor([0.4107, 0.6274])\n"
     ]
    }
   ],
   "source": [
    "query_2 = x_2 @ W_query  # (x^2) @ W_q\n",
    "key_2 = x_2 @ W_key      # (x^2) @ W_k\n",
    "value_2 = x_2 @ W_value  # (x^2) @ W_v\n",
    "print(\"query_2:\", query_2)\n",
    "print(\"key_2:\", key_2)\n",
    "print(\"value_2:\", value_2)"
   ]
  },
  {
   "cell_type": "markdown",
   "id": "60b0e1c4",
   "metadata": {},
   "source": [
    "- Tính tất cả `key` vector & `value` vector của tất cả token."
   ]
  },
  {
   "cell_type": "code",
   "execution_count": 6,
   "id": "549116e5",
   "metadata": {},
   "outputs": [
    {
     "name": "stdout",
     "output_type": "stream",
     "text": [
      "keys: tensor([[-0.1823, -0.6888],\n",
      "        [-0.1142, -0.7676],\n",
      "        [-0.1443, -0.7728],\n",
      "        [ 0.0434, -0.3580],\n",
      "        [-0.6467, -0.6476],\n",
      "        [ 0.3262, -0.3395]])\n",
      "values: tensor([[ 0.1196, -0.3566],\n",
      "        [ 0.4107,  0.6274],\n",
      "        [ 0.4091,  0.6390],\n",
      "        [ 0.2436,  0.4182],\n",
      "        [ 0.2653,  0.6668],\n",
      "        [ 0.2728,  0.3242]])\n"
     ]
    }
   ],
   "source": [
    "keys = inputs @ W_key      # X @ W_k\n",
    "values = inputs @ W_value  # X @ W_v\n",
    "print(\"keys:\", keys)\n",
    "print(\"values:\", values)"
   ]
  },
  {
   "cell_type": "markdown",
   "id": "722b0cb2",
   "metadata": {},
   "source": [
    "- Tính `attention scores` $\\omega_{2i}$"
   ]
  },
  {
   "cell_type": "code",
   "execution_count": null,
   "id": "2d2851a7",
   "metadata": {},
   "outputs": [
    {
     "name": "stdout",
     "output_type": "stream",
     "text": [
      "attn_scores: tensor([ 0.2172,  0.1376,  0.1730, -0.0491,  0.7616, -0.3809])\n"
     ]
    }
   ],
   "source": [
    "# Thay vì dot product giữa query_2 và key_i, ta tính dot product giữa query_2 và tất cả keys\n",
    "attn_scores = query_2 @ keys.T  # query_2 @ K^T\n",
    "print(\"attn_scores:\", attn_scores)"
   ]
  }
 ],
 "metadata": {
  "kernelspec": {
   "display_name": "myenv",
   "language": "python",
   "name": "python3"
  },
  "language_info": {
   "codemirror_mode": {
    "name": "ipython",
    "version": 3
   },
   "file_extension": ".py",
   "mimetype": "text/x-python",
   "name": "python",
   "nbconvert_exporter": "python",
   "pygments_lexer": "ipython3",
   "version": "3.12.8"
  }
 },
 "nbformat": 4,
 "nbformat_minor": 5
}
