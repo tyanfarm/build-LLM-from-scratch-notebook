{
 "cells": [
  {
   "cell_type": "code",
   "execution_count": 15,
   "id": "0be52c6d",
   "metadata": {},
   "outputs": [],
   "source": [
    "import torch\n",
    "\n",
    "inputs = torch.tensor(\n",
    "    [[0.43, 0.15, 0.89], # Your (x^1)\n",
    "    [0.55, 0.87, 0.66], # journey (x^2)\n",
    "    [0.57, 0.85, 0.64], # starts (x^3)\n",
    "    [0.22, 0.58, 0.33], # with (x^4)\n",
    "    [0.77, 0.25, 0.10], # one (x^5)\n",
    "    [0.05, 0.80, 0.55]] # step (x^6)\n",
    ")"
   ]
  },
  {
   "cell_type": "markdown",
   "id": "2981bd57",
   "metadata": {},
   "source": [
    "- Sử dụng $x^{(2)}$ để minh họa."
   ]
  },
  {
   "cell_type": "code",
   "execution_count": 16,
   "id": "85370d20",
   "metadata": {},
   "outputs": [],
   "source": [
    "x_2 = inputs[1]  # (x^2)\n",
    "\n",
    "# Khởi tạo dimensions của 3 ma trận trọng số\n",
    "dim_in = inputs.shape[1]\n",
    "dim_out = 2"
   ]
  },
  {
   "cell_type": "markdown",
   "id": "cad69291",
   "metadata": {},
   "source": [
    "- Khởi tạo 3 ma trận $W_q$, $W_k$, $W_v$, sử dụng _phân phối chuẩn_ $\\mathcal{N}(0, 1)$ (68 - 95 - 99.7)\n",
    "\n",
    "- Vì đang minh họa nên ta set `requires_grad=False`; nhưng khi trong quá trình train LLM thì sẽ set `requires_grad=True` để cập nhật weights trong quá trình huấn luyện."
   ]
  },
  {
   "cell_type": "code",
   "execution_count": 17,
   "id": "7740bc94",
   "metadata": {},
   "outputs": [
    {
     "name": "stdout",
     "output_type": "stream",
     "text": [
      "W_query: Parameter containing:\n",
      "tensor([[0.2961, 0.5166],\n",
      "        [0.2517, 0.6886],\n",
      "        [0.0740, 0.8665]])\n",
      "W_key: Parameter containing:\n",
      "tensor([[0.1366, 0.1025],\n",
      "        [0.1841, 0.7264],\n",
      "        [0.3153, 0.6871]])\n",
      "W_value: Parameter containing:\n",
      "tensor([[0.0756, 0.1966],\n",
      "        [0.3164, 0.4017],\n",
      "        [0.1186, 0.8274]])\n"
     ]
    }
   ],
   "source": [
    "torch.manual_seed(123)\n",
    "W_query = torch.nn.Parameter(torch.rand(dim_in, dim_out), requires_grad=False)\n",
    "W_key = torch.nn.Parameter(torch.rand(dim_in, dim_out), requires_grad=False)\n",
    "W_value = torch.nn.Parameter(torch.rand(dim_in, dim_out), requires_grad=False)\n",
    "\n",
    "print(\"W_query:\", W_query)\n",
    "print(\"W_key:\", W_key)\n",
    "print(\"W_value:\", W_value)"
   ]
  },
  {
   "cell_type": "code",
   "execution_count": 18,
   "id": "037c6bc2",
   "metadata": {},
   "outputs": [
    {
     "name": "stdout",
     "output_type": "stream",
     "text": [
      "query_2: tensor([0.4306, 1.4551])\n",
      "key_2: tensor([0.4433, 1.1419])\n",
      "value_2: tensor([0.3951, 1.0037])\n"
     ]
    }
   ],
   "source": [
    "query_2 = x_2 @ W_query  # (x^2) @ W_q\n",
    "key_2 = x_2 @ W_key      # (x^2) @ W_k\n",
    "value_2 = x_2 @ W_value  # (x^2) @ W_v\n",
    "print(\"query_2:\", query_2)\n",
    "print(\"key_2:\", key_2)\n",
    "print(\"value_2:\", value_2)"
   ]
  },
  {
   "cell_type": "markdown",
   "id": "60b0e1c4",
   "metadata": {},
   "source": [
    "- Tính tất cả `key` vector & `value` vector của tất cả token."
   ]
  },
  {
   "cell_type": "code",
   "execution_count": 19,
   "id": "549116e5",
   "metadata": {},
   "outputs": [
    {
     "name": "stdout",
     "output_type": "stream",
     "text": [
      "keys: tensor([[0.3669, 0.7646],\n",
      "        [0.4433, 1.1419],\n",
      "        [0.4361, 1.1156],\n",
      "        [0.2408, 0.6706],\n",
      "        [0.1827, 0.3292],\n",
      "        [0.3275, 0.9642]])\n",
      "values: tensor([[0.1855, 0.8812],\n",
      "        [0.3951, 1.0037],\n",
      "        [0.3879, 0.9831],\n",
      "        [0.2393, 0.5493],\n",
      "        [0.1492, 0.3346],\n",
      "        [0.3221, 0.7863]])\n"
     ]
    }
   ],
   "source": [
    "keys = inputs @ W_key      # X @ W_k\n",
    "values = inputs @ W_value  # X @ W_v\n",
    "print(\"keys:\", keys)\n",
    "print(\"values:\", values)"
   ]
  },
  {
   "cell_type": "markdown",
   "id": "722b0cb2",
   "metadata": {},
   "source": [
    "- Tính `attention scores` $\\omega_{2i}$"
   ]
  },
  {
   "cell_type": "code",
   "execution_count": 20,
   "id": "2d2851a7",
   "metadata": {},
   "outputs": [
    {
     "name": "stdout",
     "output_type": "stream",
     "text": [
      "attn_scores: tensor([1.2705, 1.8524, 1.8111, 1.0795, 0.5577, 1.5440])\n"
     ]
    }
   ],
   "source": [
    "# Thay vì dot product giữa query_2 và key_i, ta tính dot product giữa query_2 và tất cả keys\n",
    "attn_scores_2 = query_2 @ keys.T  # query_2 @ K^T\n",
    "print(\"attn_scores:\", attn_scores_2)"
   ]
  },
  {
   "cell_type": "markdown",
   "id": "daf81abc",
   "metadata": {},
   "source": [
    "- Tính `attention weights`"
   ]
  },
  {
   "cell_type": "code",
   "execution_count": 21,
   "id": "d9a2aafd",
   "metadata": {},
   "outputs": [
    {
     "name": "stdout",
     "output_type": "stream",
     "text": [
      "attn_weights: tensor([0.1500, 0.2264, 0.2199, 0.1311, 0.0906, 0.1820])\n"
     ]
    }
   ],
   "source": [
    "# Chuẩn hóa attention scores \n",
    "dim_keys = keys.shape[-1]   # Lấy embedding dimension của keys\n",
    "\n",
    "# embedding dimension thường là dim cuối cùng của tensor\n",
    "attn_weights_2 = torch.softmax(attn_scores_2 / dim_keys**0.5, dim=-1)   ## **0.5 là căn bậc hai\n",
    "\n",
    "print(\"attn_weights:\", attn_weights_2)"
   ]
  },
  {
   "cell_type": "markdown",
   "id": "f03c7f83",
   "metadata": {},
   "source": [
    "- Tính `context vector`"
   ]
  },
  {
   "cell_type": "code",
   "execution_count": 22,
   "id": "06f134a8",
   "metadata": {},
   "outputs": [
    {
     "name": "stdout",
     "output_type": "stream",
     "text": [
      "context_vector_2: tensor([0.3061, 0.8210])\n"
     ]
    }
   ],
   "source": [
    "context_vector_2 = attn_weights_2 @ values  # attn_weights_2 @ V\n",
    "print(\"context_vector_2:\", context_vector_2)"
   ]
  }
 ],
 "metadata": {
  "kernelspec": {
   "display_name": "myenv",
   "language": "python",
   "name": "python3"
  },
  "language_info": {
   "codemirror_mode": {
    "name": "ipython",
    "version": 3
   },
   "file_extension": ".py",
   "mimetype": "text/x-python",
   "name": "python",
   "nbconvert_exporter": "python",
   "pygments_lexer": "ipython3",
   "version": "3.12.8"
  }
 },
 "nbformat": 4,
 "nbformat_minor": 5
}
