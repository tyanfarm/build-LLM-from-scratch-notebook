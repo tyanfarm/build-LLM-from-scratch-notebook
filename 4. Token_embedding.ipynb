{
 "cells": [
  {
   "cell_type": "code",
   "execution_count": 22,
   "id": "ac180ee4",
   "metadata": {},
   "outputs": [
    {
     "name": "stdout",
     "output_type": "stream",
     "text": [
      "tensor([2, 3, 5, 1])\n"
     ]
    }
   ],
   "source": [
    "import torch\n",
    "\n",
    "input_ids = torch.tensor([2, 3, 5, 1])\n",
    "\n",
    "print(input_ids)"
   ]
  },
  {
   "cell_type": "markdown",
   "id": "67024ecf",
   "metadata": {},
   "source": [
    "- Để đơn giản hóa, giả sử chúng ta có 1 *vocabulary* nhỏ gồm `6 từ` (thay vì 50,257 từ trong *vocabulary* của BPE), và chúng ta muốn tạo *embedding* có `kích thước 3` (trong GPT-3 embedding có 12,288 chiều)."
   ]
  },
  {
   "cell_type": "code",
   "execution_count": null,
   "id": "fef95c10",
   "metadata": {},
   "outputs": [
    {
     "name": "stdout",
     "output_type": "stream",
     "text": [
      "Parameter containing:\n",
      "tensor([[-1.3316,  0.2230, -0.1207],\n",
      "        [-0.9797, -2.1126, -0.2721],\n",
      "        [-0.3510,  1.1152, -0.6172],\n",
      "        [-2.2708, -0.1086,  1.1721],\n",
      "        [-0.4372, -0.4053,  0.7086],\n",
      "        [ 0.9533, -0.0130, -0.1301]], requires_grad=True)\n"
     ]
    }
   ],
   "source": [
    "vocab_size = 6  # Kích thước vocabulary\n",
    "embedding_dim = 3  # Kích thước embedding\n",
    "\n",
    "torch.manual_seed(123)  # Đặt seed để kết quả không đổi khi chạy lại nhiều lần\n",
    "\n",
    "embedding_layer = torch.nn.Embedding(vocab_size, embedding_dim)\n",
    "\n",
    "print(embedding_layer.weight)"
   ]
  },
  {
   "cell_type": "markdown",
   "id": "39ac8601",
   "metadata": {},
   "source": [
    "- Ở ma trận trên, mỗi hàng tương ứng với 1 trong 6 token trong *vocabulary*, mỗi cột tương ứng với 1 trong 3 chiều *embedding*."
   ]
  },
  {
   "cell_type": "code",
   "execution_count": 20,
   "id": "b14f25ae",
   "metadata": {},
   "outputs": [
    {
     "name": "stdout",
     "output_type": "stream",
     "text": [
      "tensor([[-0.3510,  1.1152, -0.6172]], grad_fn=<EmbeddingBackward0>)\n"
     ]
    }
   ],
   "source": [
    "print(embedding_layer(torch.tensor([2])))"
   ]
  },
  {
   "cell_type": "markdown",
   "id": "ea209b56",
   "metadata": {},
   "source": [
    "- Có thể thấy với `token 2` này tương ứng với element thứ 3 trong embedding weights.\n",
    "\n",
    "- Nói cách khác, `embedding layer` thực chất chỉ là 1 phép tra cứu (`look-up operation`). "
   ]
  }
 ],
 "metadata": {
  "kernelspec": {
   "display_name": "myenv",
   "language": "python",
   "name": "python3"
  },
  "language_info": {
   "codemirror_mode": {
    "name": "ipython",
    "version": 3
   },
   "file_extension": ".py",
   "mimetype": "text/x-python",
   "name": "python",
   "nbconvert_exporter": "python",
   "pygments_lexer": "ipython3",
   "version": "3.12.8"
  }
 },
 "nbformat": 4,
 "nbformat_minor": 5
}
