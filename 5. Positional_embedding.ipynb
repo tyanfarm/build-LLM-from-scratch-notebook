{
 "cells": [
  {
   "cell_type": "code",
   "execution_count": 38,
   "id": "4e84e51a",
   "metadata": {},
   "outputs": [],
   "source": [
    "%%capture\n",
    "!pip install tiktoken"
   ]
  },
  {
   "cell_type": "code",
   "execution_count": 39,
   "id": "4682e8a4",
   "metadata": {},
   "outputs": [],
   "source": [
    "import torch\n",
    "from torch.utils.data import Dataset, DataLoader    \n",
    "import tiktoken"
   ]
  },
  {
   "cell_type": "markdown",
   "id": "f5cc0856",
   "metadata": {},
   "source": [
    "- Ta sẽ sử dụng `DataLoader` được viết ở phần `3. Data_sampling.ipynb`"
   ]
  },
  {
   "cell_type": "code",
   "execution_count": 40,
   "id": "065cc1f3",
   "metadata": {},
   "outputs": [],
   "source": [
    "class GPTDatasetV1(Dataset):\n",
    "    def __init__(self, txt, tokenizer, max_length, stride):\n",
    "        # max_length: length of each row\n",
    "        self.tokenizer = tokenizer\n",
    "        self.input_ids = []\n",
    "        self.target_ids = []\n",
    "        \n",
    "        token_ids = tokenizer.encode(txt)\n",
    "\n",
    "        for i in range(0, len(token_ids) - max_length, stride):\n",
    "            input_chunk = token_ids[i : i + max_length]\n",
    "            target_chunk = token_ids[i + 1 : i + max_length + 1]\n",
    "            self.input_ids.append(torch.tensor(input_chunk))\n",
    "            self.target_ids.append(torch.tensor(target_chunk))\n",
    "\n",
    "    def __len__(self):\n",
    "        return len(self.input_ids)\n",
    "\n",
    "    def __getitem__(self, idx):\n",
    "        return self.input_ids[idx], self.target_ids[idx]\n",
    "\n",
    "def create_dataloader_v1(txt, max_length=256, stride=128, batch_size=4, shuffle=True, drop_last=True):\n",
    "    tokenizer = tiktoken.get_encoding(\"gpt2\")\n",
    "    dataset = GPTDatasetV1(txt, tokenizer, max_length, stride)\n",
    "    dataloader = DataLoader(dataset, batch_size=batch_size, shuffle=shuffle, drop_last=drop_last)\n",
    "\n",
    "    return dataloader"
   ]
  },
  {
   "cell_type": "code",
   "execution_count": 41,
   "id": "4395b922",
   "metadata": {},
   "outputs": [],
   "source": [
    "with open(\"./the-verdict.txt\", \"r\", encoding=\"utf-8\") as f:\n",
    "    raw_text = f.read()"
   ]
  },
  {
   "cell_type": "markdown",
   "id": "b3de1474",
   "metadata": {},
   "source": [
    "- Bây giờ, ta sẽ xét đến kích thước embedding thực tế hơn (`256`). Tuy số chiều này nhỏ hơn nhiều so với GPT-3 (`12,288`), nhưng hợp lí cho thực nghiệm"
   ]
  },
  {
   "cell_type": "code",
   "execution_count": 42,
   "id": "a8249b88",
   "metadata": {},
   "outputs": [
    {
     "name": "stdout",
     "output_type": "stream",
     "text": [
      "Token IDs:\n",
      " tensor([[   40,   367,  2885,  1464],\n",
      "        [ 1807,  3619,   402,   271],\n",
      "        [10899,  2138,   257,  7026],\n",
      "        [15632,   438,  2016,   257],\n",
      "        [  922,  5891,  1576,   438],\n",
      "        [  568,   340,   373,   645],\n",
      "        [ 1049,  5975,   284,   502],\n",
      "        [  284,  3285,   326,    11]])\n",
      "\n",
      "Inputs shape:\n",
      " torch.Size([8, 4])\n"
     ]
    }
   ],
   "source": [
    "output_dim = 256\n",
    "vocab_size = 50257  # BPE vocabulary size\n",
    "torch.manual_seed(123)\n",
    "token_embedding_layer = torch.nn.Embedding(vocab_size, output_dim)\n",
    "\n",
    "max_length = 4\n",
    "dataloader = create_dataloader_v1(\n",
    "    raw_text, batch_size=8, max_length=max_length, stride=max_length, shuffle=False\n",
    ")\n",
    "data_iter = iter(dataloader)\n",
    "inputs, targets = next(data_iter)\n",
    "print(\"Token IDs:\\n\", inputs)\n",
    "print(\"\\nInputs shape:\\n\", inputs.shape)"
   ]
  },
  {
   "cell_type": "markdown",
   "id": "4c8d3079",
   "metadata": {},
   "source": [
    "- Token ID tensor có số chiều là `8x4`, có nghĩa là mỗi `batch` sẽ có 8 mẫu với 4 tokens mỗi mẫu.\n",
    "\n",
    "- Giờ chúng ta sẽ tiến hành `embed` qua `embedding_layer`"
   ]
  },
  {
   "cell_type": "code",
   "execution_count": 43,
   "id": "60d3016f",
   "metadata": {},
   "outputs": [
    {
     "name": "stdout",
     "output_type": "stream",
     "text": [
      "torch.Size([8, 4, 256])\n"
     ]
    }
   ],
   "source": [
    "token_embeddings = token_embedding_layer(inputs)\n",
    "print(token_embeddings.shape)"
   ]
  },
  {
   "cell_type": "markdown",
   "id": "d015cdcf",
   "metadata": {},
   "source": [
    "- Số chiều `8x4x256` nghĩa là \"8 mẫu với 4 tokens mỗi mẫu, mỗi token được biểu diễn dưới dạng `vector 256 chiều`\".\n",
    "\n",
    "- Dưới đây là số chiều của `sample thứ 1`."
   ]
  },
  {
   "cell_type": "code",
   "execution_count": 44,
   "id": "c1a18dfb",
   "metadata": {},
   "outputs": [
    {
     "name": "stdout",
     "output_type": "stream",
     "text": [
      "tensor([[-0.0640,  0.3317,  0.1070,  ...,  0.5349, -0.8024, -2.3238],\n",
      "        [-0.3525,  0.3509,  0.9873,  ..., -1.8466, -1.7034,  0.3223],\n",
      "        [ 1.0017,  0.9299, -1.2633,  ..., -1.2256,  1.1179,  0.1343],\n",
      "        [ 0.7996,  2.2837, -0.6525,  ..., -1.1217,  0.4706,  0.1531]],\n",
      "       grad_fn=<SelectBackward0>)\n",
      "torch.Size([4, 256])\n"
     ]
    }
   ],
   "source": [
    "# First sample\n",
    "print(token_embeddings[0])\n",
    "\n",
    "print(token_embeddings[0].shape)"
   ]
  },
  {
   "cell_type": "code",
   "execution_count": 45,
   "id": "6f38cb8a",
   "metadata": {},
   "outputs": [
    {
     "name": "stdout",
     "output_type": "stream",
     "text": [
      "torch.Size([4, 256])\n"
     ]
    }
   ],
   "source": [
    "context_length = max_length\n",
    "torch.manual_seed(123)\n",
    "pos_embedding_layer = torch.nn.Embedding(context_length, output_dim)\n",
    "pos_embeddings = pos_embedding_layer(torch.arange(context_length))\n",
    "print(pos_embeddings.shape)\n"
   ]
  },
  {
   "cell_type": "markdown",
   "id": "7623aa83",
   "metadata": {},
   "source": [
    "- `positional embedding` được khởi tạo với số chiều giống với số chiều của mỗi `sample`."
   ]
  },
  {
   "cell_type": "code",
   "execution_count": 46,
   "id": "b13b1c0c",
   "metadata": {},
   "outputs": [
    {
     "data": {
      "text/plain": [
       "tensor([[ 0.3374, -0.1778, -0.3035,  ...,  1.3337,  0.0771, -0.0522],\n",
       "        [ 0.2386,  0.1411, -1.3354,  ..., -0.0315, -1.0640,  0.9417],\n",
       "        [-1.3152, -0.0677, -0.1350,  ..., -0.3181, -1.3936,  0.5226],\n",
       "        [ 0.2579,  0.3420, -0.8168,  ..., -0.4840, -0.2713, -0.0774]],\n",
       "       grad_fn=<EmbeddingBackward0>)"
      ]
     },
     "execution_count": 46,
     "metadata": {},
     "output_type": "execute_result"
    }
   ],
   "source": [
    "pos_embeddings"
   ]
  },
  {
   "cell_type": "markdown",
   "id": "47fa9372",
   "metadata": {},
   "source": [
    "- Giờ ta sẽ `add` từng `positional embedding` 4x256 chiều với từng `token embedding` 4x256 chiều trong *mỗi batches* gồm 8 token embedding."
   ]
  },
  {
   "cell_type": "code",
   "execution_count": 47,
   "id": "8b2f7070",
   "metadata": {},
   "outputs": [
    {
     "name": "stdout",
     "output_type": "stream",
     "text": [
      "torch.Size([8, 4, 256])\n"
     ]
    }
   ],
   "source": [
    "# pos_embeddings -> [4, 256] -> [1, 4, 256] -> multiple by 8 batches -> [8, 4, 256]\n",
    "input_embeddings = token_embeddings + pos_embeddings\n",
    "print(input_embeddings.shape)"
   ]
  }
 ],
 "metadata": {
  "kernelspec": {
   "display_name": "myenv",
   "language": "python",
   "name": "python3"
  },
  "language_info": {
   "codemirror_mode": {
    "name": "ipython",
    "version": 3
   },
   "file_extension": ".py",
   "mimetype": "text/x-python",
   "name": "python",
   "nbconvert_exporter": "python",
   "pygments_lexer": "ipython3",
   "version": "3.12.8"
  }
 },
 "nbformat": 4,
 "nbformat_minor": 5
}
